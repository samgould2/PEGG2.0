{
 "cells": [
  {
   "cell_type": "markdown",
   "metadata": {},
   "source": [
    "# Protospacer ranking\n",
    "\n",
    "https://github.com/gpp-rnd/rs3\n",
    "\n",
    "https://github.com/microsoftResearch//azimuth\n",
    "\n",
    "https://pypi.org/project/Biomatters-Azimuth-2/\n",
    "\n",
    "\n",
    "This seems like the best option: https://github.com/crisprVerse/crisprScore\n",
    "\n",
    "Use in python: https://willfondrie.com/2022/01/how-to-use-r-packages-in-python/\n",
    "\n",
    "May be able to get this to work: https://github.com/crisprVerse/crisprScore/blob/master/inst/python/rs3/targetfeat.py\n",
    "\n",
    "- Modify these and port them into my workspace...\n",
    "\n",
    "# Doench Rule Set 1"
   ]
  },
  {
   "cell_type": "code",
   "execution_count": 1,
   "metadata": {},
   "outputs": [],
   "source": [
    "# This code is adopted from CRISPOR program with minor modifications\n",
    "# https://github.com/maximilianh/crisporWebsite\n",
    "# \"Evaluation of off-target and on-target scoring algorithms and integration into the guide RNA selection tool CRISPOR\"\n",
    "# by M. Haeussler et al. 2016\n",
    "\n",
    "import math\n",
    " \n",
    "params = [\n",
    "# pasted/typed table from PDF and converted to zero-based positions\n",
    "(1,'G',-0.2753771),(2,'A',-0.3238875),(2,'C',0.17212887),(3,'C',-0.1006662),\n",
    "(4,'C',-0.2018029),(4,'G',0.24595663),(5,'A',0.03644004),(5,'C',0.09837684),\n",
    "(6,'C',-0.7411813),(6,'G',-0.3932644),(11,'A',-0.466099),(14,'A',0.08537695),\n",
    "(14,'C',-0.013814),(15,'A',0.27262051),(15,'C',-0.1190226),(15,'T',-0.2859442),\n",
    "(16,'A',0.09745459),(16,'G',-0.1755462),(17,'C',-0.3457955),(17,'G',-0.6780964),\n",
    "(18,'A',0.22508903),(18,'C',-0.5077941),(19,'G',-0.4173736),(19,'T',-0.054307),\n",
    "(20,'G',0.37989937),(20,'T',-0.0907126),(21,'C',0.05782332),(21,'T',-0.5305673),\n",
    "(22,'T',-0.8770074),(23,'C',-0.8762358),(23,'G',0.27891626),(23,'T',-0.4031022),\n",
    "(24,'A',-0.0773007),(24,'C',0.28793562),(24,'T',-0.2216372),(27,'G',-0.6890167),\n",
    "(27,'T',0.11787758),(28,'C',-0.1604453),(29,'G',0.38634258),(1,'GT',-0.6257787),\n",
    "(4,'GC',0.30004332),(5,'AA',-0.8348362),(5,'TA',0.76062777),(6,'GG',-0.4908167),\n",
    "(11,'GG',-1.5169074),(11,'TA',0.7092612),(11,'TC',0.49629861),(11,'TT',-0.5868739),\n",
    "(12,'GG',-0.3345637),(13,'GA',0.76384993),(13,'GC',-0.5370252),(16,'TG',-0.7981461),\n",
    "(18,'GG',-0.6668087),(18,'TC',0.35318325),(19,'CC',0.74807209),(19,'TG',-0.3672668),\n",
    "(20,'AC',0.56820913),(20,'CG',0.32907207),(20,'GA',-0.8364568),(20,'GG',-0.7822076),\n",
    "(21,'TC',-1.029693),(22,'CG',0.85619782),(22,'CT',-0.4632077),(23,'AA',-0.5794924),\n",
    "(23,'AG',0.64907554),(24,'AG',-0.0773007),(24,'CG',0.28793562),(24,'TG',-0.2216372),\n",
    "(26,'GT',0.11787758),(28,'GG',-0.69774)]\n",
    " \n",
    "intercept =  0.59763615\n",
    "gc_high    = -0.1665878\n",
    "gc_low     = -0.2026259\n",
    " \n",
    "def calc_doench_score(seq):\n",
    "  score = intercept\n",
    " \n",
    "  #guide = seq[4:24]\n",
    "  guide = seq\n",
    "  gc_count = guide.count('G') + guide.count('C')\n",
    "  gc_weight = gc_low if gc_count <= 10 else gc_high\n",
    "  score += abs(10-gc_count)*gc_weight\n",
    " \n",
    "  for pos, model_seq, weight in params:\n",
    "    sub_seq = seq[pos:pos+len(model_seq)]\n",
    "    if sub_seq == model_seq:\n",
    "      score += weight\n",
    "  total_score = 1.0/(1.0+math.exp(-score)) * 100\n",
    "  return '%.3f' % total_score"
   ]
  },
  {
   "cell_type": "code",
   "execution_count": null,
   "metadata": {},
   "outputs": [],
   "source": []
  },
  {
   "cell_type": "markdown",
   "metadata": {},
   "source": [
    "# Azimuth Score\n",
    "\n",
    "Trying to use the code from the CRISPOR website"
   ]
  },
  {
   "cell_type": "code",
   "execution_count": 1,
   "metadata": {},
   "outputs": [],
   "source": [
    "import crisporEffScores"
   ]
  },
  {
   "cell_type": "code",
   "execution_count": 2,
   "metadata": {},
   "outputs": [
    {
     "data": {
      "text/plain": [
       "23"
      ]
     },
     "execution_count": 2,
     "metadata": {},
     "output_type": "execute_result"
    }
   ],
   "source": [
    "len('AGATTCTTGCTCACCGTCTGTGG') #3 extra on the PAM side; 4 extra on protospacer side"
   ]
  },
  {
   "cell_type": "code",
   "execution_count": 4,
   "metadata": {},
   "outputs": [
    {
     "data": {
      "text/plain": [
       "[58]"
      ]
     },
     "execution_count": 4,
     "metadata": {},
     "output_type": "execute_result"
    }
   ],
   "source": [
    "seqs = ['AGAGAGATTCTTGCTCACCGTCTGTGGAGA']\n",
    "crisporEffScores.calcAziScore(seqs)"
   ]
  },
  {
   "cell_type": "code",
   "execution_count": null,
   "metadata": {},
   "outputs": [],
   "source": []
  }
 ],
 "metadata": {
  "kernelspec": {
   "display_name": "base",
   "language": "python",
   "name": "python3"
  },
  "language_info": {
   "codemirror_mode": {
    "name": "ipython",
    "version": 3
   },
   "file_extension": ".py",
   "mimetype": "text/x-python",
   "name": "python",
   "nbconvert_exporter": "python",
   "pygments_lexer": "ipython3",
   "version": "3.9.12"
  },
  "orig_nbformat": 4
 },
 "nbformat": 4,
 "nbformat_minor": 2
}
