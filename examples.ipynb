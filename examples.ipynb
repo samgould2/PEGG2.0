{
 "cells": [
  {
   "cell_type": "markdown",
   "metadata": {},
   "source": [
    "# PEGG 2.0 Tutorial\n",
    "\n",
    "Sections:\n",
    "1. pegRNA design\n",
    "2. base editing gRNA design\n",
    "3. sensor design and visualization\n",
    "4. library design\n",
    "5. Oligo generation\n",
    "\n",
    "Case Studies:\n",
    "- ClinVar mutation generation\n",
    "- cBioPortal mutation generation"
   ]
  },
  {
   "cell_type": "code",
   "execution_count": 14,
   "metadata": {},
   "outputs": [],
   "source": [
    "from pegg.prime import pegg2\n",
    "from pegg.base import base_editing\n",
    "from pegg.library_design import library"
   ]
  }
 ],
 "metadata": {
  "kernelspec": {
   "display_name": "base",
   "language": "python",
   "name": "python3"
  },
  "language_info": {
   "codemirror_mode": {
    "name": "ipython",
    "version": 3
   },
   "file_extension": ".py",
   "mimetype": "text/x-python",
   "name": "python",
   "nbconvert_exporter": "python",
   "pygments_lexer": "ipython3",
   "version": "3.9.12"
  },
  "orig_nbformat": 4
 },
 "nbformat": 4,
 "nbformat_minor": 2
}
